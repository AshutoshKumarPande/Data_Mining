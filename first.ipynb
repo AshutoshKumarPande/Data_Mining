{
 "cells": [
  {
   "cell_type": "code",
   "execution_count": 6,
   "metadata": {},
   "outputs": [
    {
     "ename": "ModuleNotFoundError",
     "evalue": "No module named 'pandas'",
     "output_type": "error",
     "traceback": [
      "\u001b[1;31m---------------------------------------------------------------------------\u001b[0m",
      "\u001b[1;31mModuleNotFoundError\u001b[0m                       Traceback (most recent call last)",
      "Cell \u001b[1;32mIn[6], line 1\u001b[0m\n\u001b[1;32m----> 1\u001b[0m \u001b[38;5;28;01mimport\u001b[39;00m \u001b[38;5;21;01mpandas\u001b[39;00m \u001b[38;5;28;01mas\u001b[39;00m \u001b[38;5;21;01mpd\u001b[39;00m\n\u001b[0;32m      2\u001b[0m \u001b[38;5;28;01mfrom\u001b[39;00m \u001b[38;5;21;01mmatplotlib\u001b[39;00m \u001b[38;5;28;01mimport\u001b[39;00m pyplot \u001b[38;5;28;01mas\u001b[39;00m plt\n",
      "\u001b[1;31mModuleNotFoundError\u001b[0m: No module named 'pandas'"
     ]
    }
   ],
   "source": [
    "import pandas as pd\n",
    "from matplotlib import pyplot as plt"
   ]
  },
  {
   "cell_type": "code",
   "execution_count": 4,
   "metadata": {},
   "outputs": [],
   "source": [
    "!pip install plotly"
   ]
  },
  {
   "cell_type": "code",
   "execution_count": 7,
   "metadata": {},
   "outputs": [],
   "source": [
    "!pip install pandas"
   ]
  },
  {
   "cell_type": "code",
   "execution_count": 9,
   "metadata": {},
   "outputs": [],
   "source": [
    "import pandas as pd\n",
    "from matplotlib import pyplot as plt"
   ]
  },
  {
   "cell_type": "code",
   "execution_count": 10,
   "metadata": {},
   "outputs": [],
   "source": [
    "df = {\n",
    "    \"age\": [21,2,18,224,34],\n",
    "\"agegroup\": [\"adult\",\"child\",\"adult\",\"elderly\",\"adult\"],\n",
    "\"height\": [6.0,3,5.7,5,-7],\n",
    "\"status\": [\"Single\",\"Married\",\"Married\",\"Widowed\",\"Married\"],\n",
    "\"yearsmarried\": [-1,0,20,2,3]}"
   ]
  },
  {
   "cell_type": "code",
   "execution_count": 11,
   "metadata": {},
   "outputs": [
    {
     "data": {
      "text/plain": [
       "{'age': [21, 2, 18, 224, 34],\n",
       " 'agegroup': ['adult', 'child', 'adult', 'elderly', 'adult'],\n",
       " 'height': [6.0, 3, 5.7, 5, -7],\n",
       " 'status': ['Single', 'Married', 'Married', 'Widowed', 'Married'],\n",
       " 'yearsmarried': [-1, 0, 20, 2, 3]}"
      ]
     },
     "execution_count": 11,
     "metadata": {},
     "output_type": "execute_result"
    }
   ],
   "source": [
    "df"
   ]
  },
  {
   "cell_type": "code",
   "execution_count": 12,
   "metadata": {},
   "outputs": [
    {
     "data": {
      "text/html": [
       "<div>\n",
       "<style scoped>\n",
       "    .dataframe tbody tr th:only-of-type {\n",
       "        vertical-align: middle;\n",
       "    }\n",
       "\n",
       "    .dataframe tbody tr th {\n",
       "        vertical-align: top;\n",
       "    }\n",
       "\n",
       "    .dataframe thead th {\n",
       "        text-align: right;\n",
       "    }\n",
       "</style>\n",
       "<table border=\"1\" class=\"dataframe\">\n",
       "  <thead>\n",
       "    <tr style=\"text-align: right;\">\n",
       "      <th></th>\n",
       "      <th>age</th>\n",
       "      <th>agegroup</th>\n",
       "      <th>height</th>\n",
       "      <th>status</th>\n",
       "      <th>yearsmarried</th>\n",
       "    </tr>\n",
       "  </thead>\n",
       "  <tbody>\n",
       "    <tr>\n",
       "      <th>0</th>\n",
       "      <td>21</td>\n",
       "      <td>adult</td>\n",
       "      <td>6.0</td>\n",
       "      <td>Single</td>\n",
       "      <td>-1</td>\n",
       "    </tr>\n",
       "    <tr>\n",
       "      <th>1</th>\n",
       "      <td>2</td>\n",
       "      <td>child</td>\n",
       "      <td>3.0</td>\n",
       "      <td>Married</td>\n",
       "      <td>0</td>\n",
       "    </tr>\n",
       "    <tr>\n",
       "      <th>2</th>\n",
       "      <td>18</td>\n",
       "      <td>adult</td>\n",
       "      <td>5.7</td>\n",
       "      <td>Married</td>\n",
       "      <td>20</td>\n",
       "    </tr>\n",
       "    <tr>\n",
       "      <th>3</th>\n",
       "      <td>224</td>\n",
       "      <td>elderly</td>\n",
       "      <td>5.0</td>\n",
       "      <td>Widowed</td>\n",
       "      <td>2</td>\n",
       "    </tr>\n",
       "    <tr>\n",
       "      <th>4</th>\n",
       "      <td>34</td>\n",
       "      <td>adult</td>\n",
       "      <td>-7.0</td>\n",
       "      <td>Married</td>\n",
       "      <td>3</td>\n",
       "    </tr>\n",
       "  </tbody>\n",
       "</table>\n",
       "</div>"
      ],
      "text/plain": [
       "   age agegroup  height   status  yearsmarried\n",
       "0   21    adult     6.0   Single            -1\n",
       "1    2    child     3.0  Married             0\n",
       "2   18    adult     5.7  Married            20\n",
       "3  224  elderly     5.0  Widowed             2\n",
       "4   34    adult    -7.0  Married             3"
      ]
     },
     "execution_count": 12,
     "metadata": {},
     "output_type": "execute_result"
    }
   ],
   "source": [
    "df = pd.DataFrame(df)\n",
    "df"
   ]
  },
  {
   "cell_type": "code",
   "execution_count": 13,
   "metadata": {},
   "outputs": [
    {
     "data": {
      "text/html": [
       "<div>\n",
       "<style scoped>\n",
       "    .dataframe tbody tr th:only-of-type {\n",
       "        vertical-align: middle;\n",
       "    }\n",
       "\n",
       "    .dataframe tbody tr th {\n",
       "        vertical-align: top;\n",
       "    }\n",
       "\n",
       "    .dataframe thead th {\n",
       "        text-align: right;\n",
       "    }\n",
       "</style>\n",
       "<table border=\"1\" class=\"dataframe\">\n",
       "  <thead>\n",
       "    <tr style=\"text-align: right;\">\n",
       "      <th></th>\n",
       "      <th>age</th>\n",
       "      <th>agegroup</th>\n",
       "      <th>height</th>\n",
       "      <th>status</th>\n",
       "      <th>yearsmarried</th>\n",
       "    </tr>\n",
       "  </thead>\n",
       "  <tbody>\n",
       "    <tr>\n",
       "      <th>0</th>\n",
       "      <td>21</td>\n",
       "      <td>adult</td>\n",
       "      <td>6.0</td>\n",
       "      <td>Single</td>\n",
       "      <td>-1</td>\n",
       "    </tr>\n",
       "    <tr>\n",
       "      <th>1</th>\n",
       "      <td>2</td>\n",
       "      <td>child</td>\n",
       "      <td>3.0</td>\n",
       "      <td>Married</td>\n",
       "      <td>0</td>\n",
       "    </tr>\n",
       "    <tr>\n",
       "      <th>2</th>\n",
       "      <td>18</td>\n",
       "      <td>adult</td>\n",
       "      <td>5.7</td>\n",
       "      <td>Married</td>\n",
       "      <td>20</td>\n",
       "    </tr>\n",
       "    <tr>\n",
       "      <th>3</th>\n",
       "      <td>224</td>\n",
       "      <td>elderly</td>\n",
       "      <td>5.0</td>\n",
       "      <td>Widowed</td>\n",
       "      <td>2</td>\n",
       "    </tr>\n",
       "    <tr>\n",
       "      <th>4</th>\n",
       "      <td>34</td>\n",
       "      <td>adult</td>\n",
       "      <td>-7.0</td>\n",
       "      <td>Married</td>\n",
       "      <td>3</td>\n",
       "    </tr>\n",
       "  </tbody>\n",
       "</table>\n",
       "</div>"
      ],
      "text/plain": [
       "   age agegroup  height   status  yearsmarried\n",
       "0   21    adult     6.0   Single            -1\n",
       "1    2    child     3.0  Married             0\n",
       "2   18    adult     5.7  Married            20\n",
       "3  224  elderly     5.0  Widowed             2\n",
       "4   34    adult    -7.0  Married             3"
      ]
     },
     "execution_count": 13,
     "metadata": {},
     "output_type": "execute_result"
    }
   ],
   "source": [
    "df.to_csv('people.csv')\n",
    "df = pd.read_csv('people.csv', index_col=0)\n",
    "df"
   ]
  },
  {
   "cell_type": "code",
   "execution_count": 14,
   "metadata": {},
   "outputs": [],
   "source": [
    "def d1(): \n",
    "        \n",
    "\n",
    "    print(\"Age range:\")\n",
    "    print((df['age']<150) & (df['age']>-1))\n",
    "    \n",
    "def d2(): \n",
    "    print(\"Years Married:\")\n",
    "    print(df['age'] > df['yearsmarried'])\n",
    "def d3(): \n",
    "    print(\"Status:\")\n",
    "    print((df[\"status\"]==\"Married\") | (df[\"status\"]==\"Single\") | (df[\"status\"]==\"Widowed\"))\n",
    "def d4():  \n",
    "    df.loc[df['age']<18, 'agegroup'] = 'child'\n",
    "    df.loc[(df['age']>=18) & (df['age']<65), 'agegroup'] = 'adult'\n",
    "    df.loc[df['age']>=65, 'agegroup'] = 'elderly'\n",
    "    print(\"Age group:\")\n",
    "    print(df)"
   ]
  },
  {
   "cell_type": "code",
   "execution_count": 15,
   "metadata": {},
   "outputs": [
    {
     "name": "stdout",
     "output_type": "stream",
     "text": [
      "no.of valid values: 5\n",
      "no.of valid values: 0\n"
     ]
    }
   ],
   "source": [
    "x=(df[\"status\"]==\"Married\") | (df[\"status\"]==\"Single\") | (df[\"status\"]==\"Widowed\")\n",
    "print(\"no.of valid values:\",x.sum())\n",
    "print(\"no.of valid values:\",len(x)-x.sum())"
   ]
  },
  {
   "cell_type": "code",
   "execution_count": 16,
   "metadata": {},
   "outputs": [
    {
     "name": "stdout",
     "output_type": "stream",
     "text": [
      "Age range:\n",
      "0     True\n",
      "1     True\n",
      "2     True\n",
      "3    False\n",
      "4     True\n",
      "Name: age, dtype: bool\n",
      "Years Married:\n",
      "0     True\n",
      "1     True\n",
      "2    False\n",
      "3     True\n",
      "4     True\n",
      "dtype: bool\n",
      "Status:\n",
      "0    True\n",
      "1    True\n",
      "2    True\n",
      "3    True\n",
      "4    True\n",
      "Name: status, dtype: bool\n",
      "Age group:\n",
      "   age agegroup  height   status  yearsmarried\n",
      "0   21    adult     6.0   Single            -1\n",
      "1    2    child     3.0  Married             0\n",
      "2   18    adult     5.7  Married            20\n",
      "3  224  elderly     5.0  Widowed             2\n",
      "4   34    adult    -7.0  Married             3\n",
      "{None}\n"
     ]
    }
   ],
   "source": [
    "E = {d1(),d2(),d3(),d4()}\n",
    "print(E)"
   ]
  },
  {
   "cell_type": "code",
   "execution_count": 17,
   "metadata": {},
   "outputs": [
    {
     "data": {
      "text/plain": [
       "<Axes: >"
      ]
     },
     "execution_count": 17,
     "metadata": {},
     "output_type": "execute_result"
    },
    {
     "data": {
      "image/png": "[encoded data removed]",
      "text/plain": [
       "<Figure size 640x480 with 1 Axes>"
      ]
     },
     "metadata": {},
     "output_type": "display_data"
    }
   ],
   "source": [
    "df.plot()"
   ]
  },
  {
   "cell_type": "code",
   "execution_count": null,
   "metadata": {},
   "outputs": [],
   "source": []
  }
 ],
 "metadata": {
  "kernelspec": {
   "display_name": "Python 3",
   "language": "python",
   "name": "python3"
  },
  "language_info": {
   "codemirror_mode": {
    "name": "ipython",
    "version": 3
   },
   "file_extension": ".py",
   "mimetype": "text/x-python",
   "name": "python",
   "nbconvert_exporter": "python",
   "pygments_lexer": "ipython3",
   "version": "3.11.5"
  }
 },
 "nbformat": 4,
 "nbformat_minor": 2
}
